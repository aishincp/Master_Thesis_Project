{
 "cells": [
  {
   "cell_type": "code",
   "execution_count": 67,
   "id": "14041df6",
   "metadata": {},
   "outputs": [],
   "source": [
    "import pandas as pd\n",
    "import numpy as np\n",
    "import tensorflow as tf\n",
    "from tensorflow.keras.models import load_model\n",
    "from sklearn.metrics import confusion_matrix\n",
    "import matplotlib.pyplot as plt\n",
    "import seaborn as sns\n",
    "import time"
   ]
  },
  {
   "cell_type": "code",
   "execution_count": 77,
   "id": "b464cc8e",
   "metadata": {},
   "outputs": [],
   "source": [
    "# Loading the saved LSTM model\n",
    "rnn_lstm_model = load_model('rnn_lstm_model.keras')"
   ]
  },
  {
   "cell_type": "code",
   "execution_count": 84,
   "id": "ba837c97",
   "metadata": {},
   "outputs": [
    {
     "data": {
      "text/html": [
       "<div>\n",
       "<style scoped>\n",
       "    .dataframe tbody tr th:only-of-type {\n",
       "        vertical-align: middle;\n",
       "    }\n",
       "\n",
       "    .dataframe tbody tr th {\n",
       "        vertical-align: top;\n",
       "    }\n",
       "\n",
       "    .dataframe thead th {\n",
       "        text-align: right;\n",
       "    }\n",
       "</style>\n",
       "<table border=\"1\" class=\"dataframe\">\n",
       "  <thead>\n",
       "    <tr style=\"text-align: right;\">\n",
       "      <th></th>\n",
       "      <th>Label</th>\n",
       "      <th>34928</th>\n",
       "      <th>35048</th>\n",
       "      <th>35167</th>\n",
       "      <th>35286</th>\n",
       "      <th>35405</th>\n",
       "      <th>35524</th>\n",
       "      <th>35644</th>\n",
       "      <th>35763</th>\n",
       "      <th>35882</th>\n",
       "      <th>...</th>\n",
       "      <th>43869</th>\n",
       "      <th>43988</th>\n",
       "      <th>44107</th>\n",
       "      <th>44227</th>\n",
       "      <th>44346</th>\n",
       "      <th>44465</th>\n",
       "      <th>44584</th>\n",
       "      <th>44703</th>\n",
       "      <th>44823</th>\n",
       "      <th>44942</th>\n",
       "    </tr>\n",
       "  </thead>\n",
       "  <tbody>\n",
       "    <tr>\n",
       "      <th>0</th>\n",
       "      <td>1</td>\n",
       "      <td>16</td>\n",
       "      <td>54</td>\n",
       "      <td>41</td>\n",
       "      <td>42</td>\n",
       "      <td>48</td>\n",
       "      <td>40</td>\n",
       "      <td>63</td>\n",
       "      <td>31</td>\n",
       "      <td>66</td>\n",
       "      <td>...</td>\n",
       "      <td>86</td>\n",
       "      <td>57</td>\n",
       "      <td>86</td>\n",
       "      <td>46</td>\n",
       "      <td>82</td>\n",
       "      <td>66</td>\n",
       "      <td>79</td>\n",
       "      <td>61</td>\n",
       "      <td>80</td>\n",
       "      <td>57</td>\n",
       "    </tr>\n",
       "    <tr>\n",
       "      <th>1</th>\n",
       "      <td>1</td>\n",
       "      <td>37</td>\n",
       "      <td>33</td>\n",
       "      <td>38</td>\n",
       "      <td>41</td>\n",
       "      <td>40</td>\n",
       "      <td>62</td>\n",
       "      <td>45</td>\n",
       "      <td>50</td>\n",
       "      <td>36</td>\n",
       "      <td>...</td>\n",
       "      <td>69</td>\n",
       "      <td>86</td>\n",
       "      <td>82</td>\n",
       "      <td>66</td>\n",
       "      <td>70</td>\n",
       "      <td>77</td>\n",
       "      <td>79</td>\n",
       "      <td>62</td>\n",
       "      <td>77</td>\n",
       "      <td>64</td>\n",
       "    </tr>\n",
       "    <tr>\n",
       "      <th>2</th>\n",
       "      <td>1</td>\n",
       "      <td>94</td>\n",
       "      <td>65</td>\n",
       "      <td>79</td>\n",
       "      <td>70</td>\n",
       "      <td>74</td>\n",
       "      <td>89</td>\n",
       "      <td>67</td>\n",
       "      <td>101</td>\n",
       "      <td>79</td>\n",
       "      <td>...</td>\n",
       "      <td>155</td>\n",
       "      <td>99</td>\n",
       "      <td>135</td>\n",
       "      <td>105</td>\n",
       "      <td>112</td>\n",
       "      <td>94</td>\n",
       "      <td>95</td>\n",
       "      <td>100</td>\n",
       "      <td>95</td>\n",
       "      <td>101</td>\n",
       "    </tr>\n",
       "    <tr>\n",
       "      <th>3</th>\n",
       "      <td>1</td>\n",
       "      <td>40</td>\n",
       "      <td>76</td>\n",
       "      <td>56</td>\n",
       "      <td>68</td>\n",
       "      <td>80</td>\n",
       "      <td>52</td>\n",
       "      <td>90</td>\n",
       "      <td>51</td>\n",
       "      <td>103</td>\n",
       "      <td>...</td>\n",
       "      <td>123</td>\n",
       "      <td>155</td>\n",
       "      <td>120</td>\n",
       "      <td>124</td>\n",
       "      <td>98</td>\n",
       "      <td>114</td>\n",
       "      <td>103</td>\n",
       "      <td>108</td>\n",
       "      <td>106</td>\n",
       "      <td>103</td>\n",
       "    </tr>\n",
       "    <tr>\n",
       "      <th>4</th>\n",
       "      <td>1</td>\n",
       "      <td>75</td>\n",
       "      <td>45</td>\n",
       "      <td>67</td>\n",
       "      <td>67</td>\n",
       "      <td>58</td>\n",
       "      <td>75</td>\n",
       "      <td>52</td>\n",
       "      <td>81</td>\n",
       "      <td>45</td>\n",
       "      <td>...</td>\n",
       "      <td>141</td>\n",
       "      <td>79</td>\n",
       "      <td>123</td>\n",
       "      <td>74</td>\n",
       "      <td>110</td>\n",
       "      <td>69</td>\n",
       "      <td>84</td>\n",
       "      <td>66</td>\n",
       "      <td>89</td>\n",
       "      <td>76</td>\n",
       "    </tr>\n",
       "  </tbody>\n",
       "</table>\n",
       "<p>5 rows × 86 columns</p>\n",
       "</div>"
      ],
      "text/plain": [
       "   Label  34928  35048  35167  35286  35405  35524  35644  35763  35882  ...  \\\n",
       "0      1     16     54     41     42     48     40     63     31     66  ...   \n",
       "1      1     37     33     38     41     40     62     45     50     36  ...   \n",
       "2      1     94     65     79     70     74     89     67    101     79  ...   \n",
       "3      1     40     76     56     68     80     52     90     51    103  ...   \n",
       "4      1     75     45     67     67     58     75     52     81     45  ...   \n",
       "\n",
       "   43869  43988  44107  44227  44346  44465  44584  44703  44823  44942  \n",
       "0     86     57     86     46     82     66     79     61     80     57  \n",
       "1     69     86     82     66     70     77     79     62     77     64  \n",
       "2    155     99    135    105    112     94     95    100     95    101  \n",
       "3    123    155    120    124     98    114    103    108    106    103  \n",
       "4    141     79    123     74    110     69     84     66     89     76  \n",
       "\n",
       "[5 rows x 86 columns]"
      ]
     },
     "execution_count": 84,
     "metadata": {},
     "output_type": "execute_result"
    }
   ],
   "source": [
    "# Loading the test data samples\n",
    "test_data = pd.read_csv(r'C:\\Users\\yousuf\\source\\repos\\IndividualProject_Mr.PechThesisDataset&Model\\ThesisModel\\THESIS_TEST_FOLDER_FOR_DEMO\\TestData_Today.csv')\n",
    "test_data.head(5)"
   ]
  },
  {
   "cell_type": "code",
   "execution_count": 85,
   "id": "4218e7f0",
   "metadata": {},
   "outputs": [
    {
     "name": "stdout",
     "output_type": "stream",
     "text": [
      "[[ 16  54  41 ...  61  80  57]\n",
      " [ 37  33  38 ...  62  77  64]\n",
      " [ 94  65  79 ... 100  95 101]\n",
      " ...\n",
      " [ 48  54  56 ...  78  75  76]\n",
      " [ 93  68  79 ... 101 117  86]\n",
      " [ 69  91  65 ... 111 126  90]]\n"
     ]
    }
   ],
   "source": [
    "# Extract features and labels from test data\n",
    "X_test = test_data.iloc[:, 1:].values  # all features except 1st column\n",
    "y_test = test_data.iloc[:, 0].values.astype(int)   #all labels from 1st column\n",
    "\n",
    "print(X_test)"
   ]
  },
  {
   "cell_type": "code",
   "execution_count": 86,
   "id": "1bb8408e",
   "metadata": {},
   "outputs": [
    {
     "name": "stdout",
     "output_type": "stream",
     "text": [
      "[1 1 1 1 1 1 1 1 1 1 1 1 1 1 1 1 1 1 1 1 1 1 1 1 1 1 1 1 1 1 1 1 1 1 1 1 1\n",
      " 1 1 1 1 1 1 1 1 1 1 1 1 1 1 1 1 1 1 1 1 1 1 1 1 1 1 1 1 1 1 1 1 1 1 1 1 1\n",
      " 1 1 1 1 1 1 1 1 1 1 1 1 1 1 1 1 1 1 1 1 1 1 1 1 1 1]\n"
     ]
    }
   ],
   "source": [
    "print(y_test)"
   ]
  },
  {
   "cell_type": "code",
   "execution_count": 87,
   "id": "3a94e6ef",
   "metadata": {},
   "outputs": [
    {
     "name": "stdout",
     "output_type": "stream",
     "text": [
      "\n",
      "Distribution of labels:\n",
      "1    100\n",
      "Name: count, dtype: int64\n"
     ]
    }
   ],
   "source": [
    "# Distribution of labels\n",
    "print(\"\\nDistribution of labels:\")\n",
    "print(pd.Series(y_test).value_counts())"
   ]
  },
  {
   "cell_type": "code",
   "execution_count": 88,
   "id": "864f24ac",
   "metadata": {},
   "outputs": [],
   "source": [
    "# Reshaping the feature set to match model's input shape\n",
    "X_test = X_test.reshape(X_test.shape[0], X_test.shape[1], 1)"
   ]
  },
  {
   "cell_type": "code",
   "execution_count": null,
   "id": "a8bbc7ea",
   "metadata": {},
   "outputs": [],
   "source": []
  },
  {
   "cell_type": "code",
   "execution_count": 89,
   "id": "5e90d98c",
   "metadata": {},
   "outputs": [
    {
     "name": "stdout",
     "output_type": "stream",
     "text": [
      "\u001b[1m4/4\u001b[0m \u001b[32m━━━━━━━━━━━━━━━━━━━━\u001b[0m\u001b[37m\u001b[0m \u001b[1m0s\u001b[0m 24ms/step\n",
      "Prediction Time:  0.1952 seconds\n",
      "\u001b[1m4/4\u001b[0m \u001b[32m━━━━━━━━━━━━━━━━━━━━\u001b[0m\u001b[37m\u001b[0m \u001b[1m0s\u001b[0m 34ms/step - accuracy: 0.3507 - loss: 2.4612\n",
      "Evaluation Time:  0.2062 seconds\n",
      "\u001b[1m4/4\u001b[0m \u001b[32m━━━━━━━━━━━━━━━━━━━━\u001b[0m\u001b[37m\u001b[0m \u001b[1m0s\u001b[0m 32ms/step - accuracy: 0.3507 - loss: 2.4612\n",
      "Test accuracy: 0.3300\n",
      "Test loss: 2.4862\n",
      "\u001b[1m4/4\u001b[0m \u001b[32m━━━━━━━━━━━━━━━━━━━━\u001b[0m\u001b[37m\u001b[0m \u001b[1m0s\u001b[0m 25ms/step\n",
      "\n",
      "Confusion Matrix for Testing Set:\n",
      "[[67 33]\n",
      " [ 0  0]]\n"
     ]
    }
   ],
   "source": [
    "# Prediction time calculation\n",
    "start_time = time.time()\n",
    "y_pred = rnn_lstm_model.predict(X_test)\n",
    "end_time = time.time()\n",
    "\n",
    "prediction_time = end_time - start_time\n",
    "print(f\"Prediction Time: {prediction_time: .4f} seconds\")\n",
    "\n",
    "\n",
    "# Evaluation time calculation\n",
    "start_time = time.time()\n",
    "test_loss, test_acc = rnn_lstm_model.evaluate(X_test, y_test)\n",
    "end_time = time.time()\n",
    "\n",
    "evaluation_time = end_time - start_time\n",
    "print(f\"Evaluation Time: {evaluation_time: .4f} seconds\")\n",
    "\n",
    "\n",
    "#Evaluation of saved model with new data\n",
    "test_loss, test_acc = rnn_lstm_model.evaluate(X_test, y_test)\n",
    "\n",
    "print(f'Test accuracy: {test_acc:.4f}')\n",
    "print(f'Test loss: {test_loss:.4f}')\n",
    "\n",
    "# Predictions making on test data\n",
    "y_pred = rnn_lstm_model.predict(X_test)\n",
    "y_pred_classes = (y_pred > 0.5).astype(int)\n",
    "\n",
    "print(\"\\nConfusion Matrix for Testing Set:\")\n",
    "print(test_conf_matrix)"
   ]
  },
  {
   "cell_type": "code",
   "execution_count": 90,
   "id": "af0968d8-ac48-43b8-a5d2-87f3d9d054cd",
   "metadata": {},
   "outputs": [
    {
     "data": {
      "image/png": "[encoded data removed]",
      "text/plain": [
       "<Figure size 800x600 with 2 Axes>"
      ]
     },
     "metadata": {},
     "output_type": "display_data"
    }
   ],
   "source": [
    "test_conf_matrix = confusion_matrix(y_test, y_pred_classes)\n",
    "\n",
    "# Plotting CM\n",
    "fig, ax = plt.subplots(figsize=(8, 6))  # Increase the figure size\n",
    "cax = ax.matshow(test_conf_matrix, cmap='Blues')\n",
    "\n",
    "plt.colorbar(cax)\n",
    "for (i, j), val in np.ndenumerate(test_conf_matrix):\n",
    "    ax.text(j, i, f'{val}', ha='center', va='center', color='black', fontsize=16, fontweight='bold')\n",
    "\n",
    "# Axis labels\n",
    "ax.set_xticks(np.arange(len(['Predicted Chair', 'Predicted Person'])))\n",
    "ax.set_yticks(np.arange(len(['Actual Chair', 'Actual Person'])))\n",
    "ax.set_xticklabels(['Predicted Chair', 'Predicted Person'], fontsize=14)\n",
    "ax.set_yticklabels(['Actual Chair', 'Actual Person'], fontsize=14)\n",
    "\n",
    "# Gris lines\n",
    "ax.grid(False)\n",
    "plt.xticks(rotation=45)\n",
    "plt.xlabel('Predicted Label', fontsize=18)\n",
    "plt.ylabel('True Label', fontsize=18)\n",
    "plt.title('Confusion Matrix for Testing Set', fontsize=20, pad=20)\n",
    "\n",
    "# Adjust the layout\n",
    "plt.tight_layout()\n",
    "plt.show()\n",
    "\n"
   ]
  },
  {
   "cell_type": "code",
   "execution_count": null,
   "id": "0ae7aa81",
   "metadata": {},
   "outputs": [],
   "source": []
  },
  {
   "cell_type": "code",
   "execution_count": null,
   "id": "21b4c660-44a3-4f34-b0dc-5ed91a6be4f3",
   "metadata": {},
   "outputs": [],
   "source": []
  }
 ],
 "metadata": {
  "kernelspec": {
   "display_name": "Python 3 (ipykernel)",
   "language": "python",
   "name": "python3"
  },
  "language_info": {
   "codemirror_mode": {
    "name": "ipython",
    "version": 3
   },
   "file_extension": ".py",
   "mimetype": "text/x-python",
   "name": "python",
   "nbconvert_exporter": "python",
   "pygments_lexer": "ipython3",
   "version": "3.11.7"
  }
 },
 "nbformat": 4,
 "nbformat_minor": 5
}
