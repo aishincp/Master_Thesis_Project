{
 "cells": [
  {
   "cell_type": "code",
   "execution_count": 15,
   "id": "14041df6",
   "metadata": {},
   "outputs": [],
   "source": [
    "import pandas\n",
    "import tensorflow as tf\n",
    "from tensorflow.keras.models import load_model\n",
    "from sklearn.metrics import confusion_matrix"
   ]
  },
  {
   "cell_type": "code",
   "execution_count": 4,
   "id": "b464cc8e",
   "metadata": {},
   "outputs": [],
   "source": [
    "# Loading the saved LSTM model\n",
    "rnn_lstm_model = load_model('rnn_lstm_model.keras')"
   ]
  },
  {
   "cell_type": "code",
   "execution_count": 5,
   "id": "ba837c97",
   "metadata": {},
   "outputs": [
    {
     "data": {
      "text/html": [
       "<div>\n",
       "<style scoped>\n",
       "    .dataframe tbody tr th:only-of-type {\n",
       "        vertical-align: middle;\n",
       "    }\n",
       "\n",
       "    .dataframe tbody tr th {\n",
       "        vertical-align: top;\n",
       "    }\n",
       "\n",
       "    .dataframe thead th {\n",
       "        text-align: right;\n",
       "    }\n",
       "</style>\n",
       "<table border=\"1\" class=\"dataframe\">\n",
       "  <thead>\n",
       "    <tr style=\"text-align: right;\">\n",
       "      <th></th>\n",
       "      <th>label</th>\n",
       "      <th>0</th>\n",
       "      <th>1</th>\n",
       "      <th>2</th>\n",
       "      <th>3</th>\n",
       "      <th>4</th>\n",
       "      <th>5</th>\n",
       "      <th>6</th>\n",
       "      <th>7</th>\n",
       "      <th>8</th>\n",
       "      <th>...</th>\n",
       "      <th>75</th>\n",
       "      <th>76</th>\n",
       "      <th>77</th>\n",
       "      <th>78</th>\n",
       "      <th>79</th>\n",
       "      <th>80</th>\n",
       "      <th>81</th>\n",
       "      <th>82</th>\n",
       "      <th>83</th>\n",
       "      <th>84</th>\n",
       "    </tr>\n",
       "  </thead>\n",
       "  <tbody>\n",
       "    <tr>\n",
       "      <th>0</th>\n",
       "      <td>0</td>\n",
       "      <td>97</td>\n",
       "      <td>0</td>\n",
       "      <td>94</td>\n",
       "      <td>1</td>\n",
       "      <td>82</td>\n",
       "      <td>12</td>\n",
       "      <td>79</td>\n",
       "      <td>31</td>\n",
       "      <td>80</td>\n",
       "      <td>...</td>\n",
       "      <td>88</td>\n",
       "      <td>92</td>\n",
       "      <td>122</td>\n",
       "      <td>106</td>\n",
       "      <td>103</td>\n",
       "      <td>82</td>\n",
       "      <td>75</td>\n",
       "      <td>67</td>\n",
       "      <td>94</td>\n",
       "      <td>90</td>\n",
       "    </tr>\n",
       "    <tr>\n",
       "      <th>1</th>\n",
       "      <td>1</td>\n",
       "      <td>131</td>\n",
       "      <td>204</td>\n",
       "      <td>135</td>\n",
       "      <td>217</td>\n",
       "      <td>156</td>\n",
       "      <td>222</td>\n",
       "      <td>177</td>\n",
       "      <td>243</td>\n",
       "      <td>203</td>\n",
       "      <td>...</td>\n",
       "      <td>377</td>\n",
       "      <td>394</td>\n",
       "      <td>335</td>\n",
       "      <td>371</td>\n",
       "      <td>325</td>\n",
       "      <td>328</td>\n",
       "      <td>298</td>\n",
       "      <td>319</td>\n",
       "      <td>285</td>\n",
       "      <td>275</td>\n",
       "    </tr>\n",
       "    <tr>\n",
       "      <th>2</th>\n",
       "      <td>1</td>\n",
       "      <td>150</td>\n",
       "      <td>165</td>\n",
       "      <td>162</td>\n",
       "      <td>172</td>\n",
       "      <td>190</td>\n",
       "      <td>180</td>\n",
       "      <td>201</td>\n",
       "      <td>195</td>\n",
       "      <td>226</td>\n",
       "      <td>...</td>\n",
       "      <td>384</td>\n",
       "      <td>319</td>\n",
       "      <td>343</td>\n",
       "      <td>305</td>\n",
       "      <td>314</td>\n",
       "      <td>274</td>\n",
       "      <td>294</td>\n",
       "      <td>271</td>\n",
       "      <td>265</td>\n",
       "      <td>251</td>\n",
       "    </tr>\n",
       "    <tr>\n",
       "      <th>3</th>\n",
       "      <td>0</td>\n",
       "      <td>43</td>\n",
       "      <td>90</td>\n",
       "      <td>37</td>\n",
       "      <td>86</td>\n",
       "      <td>43</td>\n",
       "      <td>69</td>\n",
       "      <td>49</td>\n",
       "      <td>66</td>\n",
       "      <td>59</td>\n",
       "      <td>...</td>\n",
       "      <td>37</td>\n",
       "      <td>115</td>\n",
       "      <td>90</td>\n",
       "      <td>124</td>\n",
       "      <td>73</td>\n",
       "      <td>82</td>\n",
       "      <td>56</td>\n",
       "      <td>80</td>\n",
       "      <td>83</td>\n",
       "      <td>99</td>\n",
       "    </tr>\n",
       "    <tr>\n",
       "      <th>4</th>\n",
       "      <td>1</td>\n",
       "      <td>152</td>\n",
       "      <td>184</td>\n",
       "      <td>160</td>\n",
       "      <td>184</td>\n",
       "      <td>192</td>\n",
       "      <td>196</td>\n",
       "      <td>203</td>\n",
       "      <td>207</td>\n",
       "      <td>231</td>\n",
       "      <td>...</td>\n",
       "      <td>375</td>\n",
       "      <td>308</td>\n",
       "      <td>329</td>\n",
       "      <td>295</td>\n",
       "      <td>307</td>\n",
       "      <td>262</td>\n",
       "      <td>282</td>\n",
       "      <td>261</td>\n",
       "      <td>256</td>\n",
       "      <td>236</td>\n",
       "    </tr>\n",
       "  </tbody>\n",
       "</table>\n",
       "<p>5 rows × 86 columns</p>\n",
       "</div>"
      ],
      "text/plain": [
       "   label    0    1    2    3    4    5    6    7    8  ...   75   76   77  \\\n",
       "0      0   97    0   94    1   82   12   79   31   80  ...   88   92  122   \n",
       "1      1  131  204  135  217  156  222  177  243  203  ...  377  394  335   \n",
       "2      1  150  165  162  172  190  180  201  195  226  ...  384  319  343   \n",
       "3      0   43   90   37   86   43   69   49   66   59  ...   37  115   90   \n",
       "4      1  152  184  160  184  192  196  203  207  231  ...  375  308  329   \n",
       "\n",
       "    78   79   80   81   82   83   84  \n",
       "0  106  103   82   75   67   94   90  \n",
       "1  371  325  328  298  319  285  275  \n",
       "2  305  314  274  294  271  265  251  \n",
       "3  124   73   82   56   80   83   99  \n",
       "4  295  307  262  282  261  256  236  \n",
       "\n",
       "[5 rows x 86 columns]"
      ]
     },
     "execution_count": 5,
     "metadata": {},
     "output_type": "execute_result"
    }
   ],
   "source": [
    "# Loading the test data of 100 samples \n",
    "test_data = pd.read_csv('https://docs.google.com/spreadsheets/d/e/2PACX-1vRSdfoqnzzQ57gltD69bxfG5ofnf-X1VWsNog1LVdJHHKeFBqRN1AxstGGe9abA8w/pub?output=csv')\n",
    "test_data.head(5)"
   ]
  },
  {
   "cell_type": "code",
   "execution_count": 6,
   "id": "4218e7f0",
   "metadata": {},
   "outputs": [
    {
     "name": "stdout",
     "output_type": "stream",
     "text": [
      "[[ 97   0  94 ...  67  94  90]\n",
      " [131 204 135 ... 319 285 275]\n",
      " [150 165 162 ... 271 265 251]\n",
      " ...\n",
      " [ 69  69  69 ...  69  89  90]\n",
      " [ 63  70  62 ...  87  81  98]\n",
      " [ 49  46  47 ... -54 -52 -49]]\n"
     ]
    }
   ],
   "source": [
    "# Extract features and labels from test data\n",
    "X_test = test_data.iloc[:, 1:].values  # all features except 1st column\n",
    "y_test = test_data.iloc[:, 0].values.astype(int)   #all labels from 1st column\n",
    "\n",
    "print(X_test)"
   ]
  },
  {
   "cell_type": "code",
   "execution_count": 7,
   "id": "1bb8408e",
   "metadata": {},
   "outputs": [
    {
     "name": "stdout",
     "output_type": "stream",
     "text": [
      "[0 1 1 0 1 1 1 1 0 1 1 0 0 0 1 1 1 1 0 0 0 1 1 1 0 0 0 1 1 1 1 1 0 0 0 0 0\n",
      " 1 1 1 0 0 0 0 0 1 1 1 1 0 0 0 0 1 1 1 1 1 1 0 0 0 1 1 1 1 1 0 0 0 0 1 1 1\n",
      " 1 0 0 0 0 1 1 1 1 1 0 0 0 1 1 1 1 1 0 0 0 0 0 0 0 1]\n"
     ]
    }
   ],
   "source": [
    "print(y_test)"
   ]
  },
  {
   "cell_type": "code",
   "execution_count": 11,
   "id": "3a94e6ef",
   "metadata": {},
   "outputs": [
    {
     "name": "stdout",
     "output_type": "stream",
     "text": [
      "\n",
      "Distribution of labels:\n",
      "1    53\n",
      "0    47\n",
      "dtype: int64\n"
     ]
    }
   ],
   "source": [
    "# Distribution of labels\n",
    "print(\"\\nDistribution of labels:\")\n",
    "print(pd.Series(y_test).value_counts())"
   ]
  },
  {
   "cell_type": "code",
   "execution_count": 12,
   "id": "864f24ac",
   "metadata": {},
   "outputs": [],
   "source": [
    "# Reshaping the feature set to match model's input shape\n",
    "X_test = X_test.reshape(X_test.shape[0], X_test.shape[1], 1)"
   ]
  },
  {
   "cell_type": "code",
   "execution_count": null,
   "id": "a8bbc7ea",
   "metadata": {},
   "outputs": [],
   "source": []
  },
  {
   "cell_type": "code",
   "execution_count": 19,
   "id": "5e90d98c",
   "metadata": {},
   "outputs": [
    {
     "name": "stdout",
     "output_type": "stream",
     "text": [
      "\u001b[1m4/4\u001b[0m \u001b[32m━━━━━━━━━━━━━━━━━━━━\u001b[0m\u001b[37m\u001b[0m \u001b[1m0s\u001b[0m 43ms/step\n",
      "Prediction Time:  0.2532 seconds\n",
      "\u001b[1m4/4\u001b[0m \u001b[32m━━━━━━━━━━━━━━━━━━━━\u001b[0m\u001b[37m\u001b[0m \u001b[1m0s\u001b[0m 47ms/step - accuracy: 0.6788 - loss: 0.9993\n",
      "Evaluation Time:  0.2620 seconds\n",
      "\u001b[1m4/4\u001b[0m \u001b[32m━━━━━━━━━━━━━━━━━━━━\u001b[0m\u001b[37m\u001b[0m \u001b[1m0s\u001b[0m 47ms/step - accuracy: 0.6788 - loss: 0.9993\n",
      "Test accuracy: 0.7700\n",
      "Test loss: 0.7338\n",
      "\u001b[1m4/4\u001b[0m \u001b[32m━━━━━━━━━━━━━━━━━━━━\u001b[0m\u001b[37m\u001b[0m \u001b[1m0s\u001b[0m 44ms/step\n"
     ]
    },
    {
     "data": {
      "image/png": "[encoded data removed]",
      "text/plain": [
       "<Figure size 1000x800 with 2 Axes>"
      ]
     },
     "metadata": {},
     "output_type": "display_data"
    }
   ],
   "source": [
    "# Prediction time calculation\n",
    "start_time = time.time()\n",
    "y_pred = rnn_lstm_model.predict(X_test)\n",
    "end_time = time.time()\n",
    "\n",
    "prediction_time = end_time - start_time\n",
    "print(f\"Prediction Time: {prediction_time: .4f} seconds\")\n",
    "\n",
    "\n",
    "# Evaluation time calculation\n",
    "start_time = time.time()\n",
    "test_loss, test_acc = rnn_lstm_model.evaluate(X_test, y_test)\n",
    "end_time = time.time()\n",
    "\n",
    "evaluation_time = end_time - start_time\n",
    "print(f\"Evaluation Time: {evaluation_time: .4f} seconds\")\n",
    "\n",
    "\n",
    "#Evaluation of saved model with new data\n",
    "test_loss, test_acc = rnn_lstm_model.evaluate(X_test, y_test)\n",
    "\n",
    "print(f'Test accuracy: {test_acc:.4f}')\n",
    "print(f'Test loss: {test_loss:.4f}')\n",
    "\n",
    "# Predictions on test data\n",
    "y_pred = rnn_lstm_model.predict(X_test)\n",
    "y_pred_classes = (y_pred > 0.5).astype(int)\n",
    "\n",
    "\n",
    "test_conf_matrix = confusion_matrix(y_test, y_pred_classes)\n",
    "\n",
    "# Plotting confusion matrix for testing set\n",
    "plt.figure(figsize=(10, 8))\n",
    "sns.heatmap(test_conf_matrix, annot=True, fmt='d', cmap='Blues', xticklabels=['Predicted Chair', 'Predicted Person'], yticklabels=['Actual Chair', 'Actual Person'])\n",
    "plt.xlabel('Predicted Label')\n",
    "plt.ylabel('True Label')\n",
    "plt.title('Confusion Matrix for Testing Set')\n",
    "plt.show()\n",
    "\n"
   ]
  },
  {
   "cell_type": "code",
   "execution_count": null,
   "id": "0ae7aa81",
   "metadata": {},
   "outputs": [],
   "source": []
  }
 ],
 "metadata": {
  "kernelspec": {
   "display_name": "Python 3 (ipykernel)",
   "language": "python",
   "name": "python3"
  },
  "language_info": {
   "codemirror_mode": {
    "name": "ipython",
    "version": 3
   },
   "file_extension": ".py",
   "mimetype": "text/x-python",
   "name": "python",
   "nbconvert_exporter": "python",
   "pygments_lexer": "ipython3",
   "version": "3.10.9"
  }
 },
 "nbformat": 4,
 "nbformat_minor": 5
}
